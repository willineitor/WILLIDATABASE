{
 "cells": [
  {
   "cell_type": "code",
   "execution_count": null,
   "id": "efbb13ac",
   "metadata": {},
   "outputs": [
    {
     "data": {
      "text/plain": [
       "0        2\n",
       "1        1\n",
       "2        2\n",
       "3        2\n",
       "4        1\n",
       "        ..\n",
       "78496    1\n",
       "78497    1\n",
       "78498    1\n",
       "78499    1\n",
       "78500    1\n",
       "Name: P35, Length: 78501, dtype: int64"
      ]
     },
     "execution_count": 9,
     "metadata": {},
     "output_type": "execute_result"
    }
   ],
   "source": [
    "import pandas as pd\n",
    "import numpy as np\n",
    "\n",
    "url_repaso_parcial = 'https://github.com/niconomist98/DataAnalyticsUQ/raw/refs/heads/main/Datos/EMICRON/emicron_identificacion.csv'\n",
    "\n",
    "repaso_parcial_emicron = pd.read_csv(url_repaso_parcial)\n",
    "\n",
    "repaso_parcial_emicron.head() \n",
    "\n",
    "#1.CALCULE LA CANTIDAD DE MICRONEGOCIIOS QUE HAY EN EL DEPARTARMENTO DEL QUINDIO ENCABEZADA POR HOMBRES Y MUJERES ENTRE LOS 18 Y 28 AÑOS\n",
    "#2.CUAL ES LA CIUDAD EN LA QUE EXISTEN MAS MICRONEGOCIOS ENCABEZADOS POR HOMBRES ENTRE LOS 20 Y LOS 30 AÑOS\n",
    "#3.EN EL DEPARTAMENTO DEL TOLIMA CUANTOS MICRONEGOCIOS EXISTEN ENCABEZADOS POR MUJERES QUE NO TIENEN UNA PERSONA QUE LES AYUDE EN SU MICRONEGOCIO\n",
    "#4.CUANTOS MICRONEGOCIOS HAY EN LA CIUDAD DE BOGOTA ENCABEZADOS POR MUJERES QUE ESTEN EN EL SECTOR DE LA INDUSTRIA MANUFACTURERA\n",
    "#5.CREAR UN CODIGO A GUSTO EN FORMA DE PREGUNTA CON DOS VARIABLES "
   ]
  }
 ],
 "metadata": {
  "kernelspec": {
   "display_name": "Python 3",
   "language": "python",
   "name": "python3"
  },
  "language_info": {
   "codemirror_mode": {
    "name": "ipython",
    "version": 3
   },
   "file_extension": ".py",
   "mimetype": "text/x-python",
   "name": "python",
   "nbconvert_exporter": "python",
   "pygments_lexer": "ipython3",
   "version": "3.12.1"
  }
 },
 "nbformat": 4,
 "nbformat_minor": 5
}
