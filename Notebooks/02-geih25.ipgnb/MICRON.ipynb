{
 "cells": [
  {
   "cell_type": "code",
   "execution_count": 8,
   "id": "efbb13ac",
   "metadata": {},
   "outputs": [],
   "source": [
    "import pandas as pd\n",
    "import numpy as np\n",
    "\n",
    "url_repaso_parcial_identificacion = 'https://github.com/niconomist98/DataAnalyticsUQ/raw/refs/heads/main/Datos/EMICRON/emicron_identificacion.csv'\n",
    "\n",
    "repaso_parcial_emicron_identificacion = pd.read_csv(url_repaso_parcial_identificacion)\n",
    "\n",
    "repaso_parcial_emicron_identificacion.head() \n",
    "\n",
    "url_repaso_parcial_emprendimiento = 'https://github.com/willineitor/WILLIDATABASE/raw/refs/heads/main/Talleres/M%C3%B3dulo%20de%20emprendimiento.csv'\n",
    "\n",
    "repaso_parcial_emicron_emprendimiento = pd.read_csv(url_repaso_parcial_emprendimiento)\n",
    "\n",
    "\n",
    "\n",
    "\n",
    "\n",
    "#1.CALCULE LA CANTIDAD DE MICRONEGOCIIOS QUE HAY EN EL DEPARTARMENTO DEL QUINDIO ENCABEZADA POR HOMBRES Y MUJERES ENTRE LOS 18 Y 28 AÑOS\n",
    "#2.CUAL ES LA CIUDAD EN LA QUE EXISTEN MAS MICRONEGOCIOS ENCABEZADOS POR HOMBRES ENTRE LOS 20 Y LOS 30 AÑOS\n",
    "#3.EN EL DEPARTAMENTO DEL TOLIMA CUANTOS MICRONEGOCIOS EXISTEN ENCABEZADOS POR MUJERES QUE NO TIENEN UNA PERSONA QUE LES AYUDE EN SU MICRONEGOCIO\n",
    "#4.CUANTOS MICRONEGOCIOS HAY EN LA CIUDAD DE BOGOTA ENCABEZADOS POR MUJERES QUE ESTEN EN EL SECTOR DE LA INDUSTRIA MANUFACTURERA\n",
    "#5.CREAR UN CODIGO A GUSTO EN FORMA DE PREGUNTA CON DOS VARIABLES \n"
   ]
  },
  {
   "cell_type": "code",
   "execution_count": 9,
   "id": "460f79f4",
   "metadata": {},
   "outputs": [
    {
     "name": "stdout",
     "output_type": "stream",
     "text": [
      "Cantidad de micronegocios en el Quindio encabezados por hombres entre 18 y 28 años: 1531.3\n",
      "Cantidad de micronegocios en el Quindio encabezados por mujeres entre 18 y 28 años: 2281.8\n"
     ]
    }
   ],
   "source": [
    "#1.CALCULE LA CANTIDAD DE MICRONEGOCIIOS QUE HAY EN EL DEPARTARMENTO DEL QUINDIO ENCABEZADA POR HOMBRES Y MUJERES ENTRE LOS 18 Y 28 AÑOS\n",
    "\n",
    "QH1828 = repaso_parcial_emicron_identificacion[\n",
    "    (repaso_parcial_emicron_identificacion['COD_DEPTO'] == 63) &\n",
    "    (repaso_parcial_emicron_identificacion['P35'] == 1) &\n",
    "    (repaso_parcial_emicron_identificacion['P241'] >= 18) &\n",
    "    (repaso_parcial_emicron_identificacion['P241'] <= 28)\n",
    "]['F_EXP'].sum()\n",
    "print(f'Cantidad de micronegocios en el Quindio encabezados por hombres entre 18 y 28 años: { QH1828:.1f}')\n",
    "\n",
    "QM1828 = repaso_parcial_emicron_identificacion[\n",
    "    (repaso_parcial_emicron_identificacion['COD_DEPTO'] == 63) &\n",
    "    (repaso_parcial_emicron_identificacion['P35'] == 2) &\n",
    "    (repaso_parcial_emicron_identificacion['P241'] >= 18) &\n",
    "    (repaso_parcial_emicron_identificacion['P241'] <= 28)\n",
    "]['F_EXP'].sum()\n",
    "print(f'Cantidad de micronegocios en el Quindio encabezados por mujeres entre 18 y 28 años: { QM1828:.1f}')\n"
   ]
  },
  {
   "cell_type": "code",
   "execution_count": 10,
   "id": "6431a1b7",
   "metadata": {},
   "outputs": [
    {
     "name": "stdout",
     "output_type": "stream",
     "text": [
      "La ciudad (AREA) con más micronegocios encabezados por hombres entre 20 y 30 años es: 5.0 con 46673.1 micronegocios\n"
     ]
    }
   ],
   "source": [
    "#2.CUAL ES LA CIUDAD EN LA QUE EXISTEN MAS MICRONEGOCIOS ENCABEZADOS POR HOMBRES ENTRE LOS 20 Y LOS 30 AÑOS\n",
    "\n",
    "# Filtrar los micronegocios encabezados por hombres entre 20 y 30 años\n",
    "filtro = (repaso_parcial_emicron_identificacion['P35'] == 1) & \\\n",
    "         (repaso_parcial_emicron_identificacion['P241'] >= 20) & \\\n",
    "         (repaso_parcial_emicron_identificacion['P241'] <= 30)\n",
    "\n",
    "# Agrupar por ciudad (AREA) y sumar F_EXP\n",
    "ciudades_micro = repaso_parcial_emicron_identificacion[filtro].groupby('AREA')['F_EXP'].sum()\n",
    "\n",
    "# Encontrar la ciudad con el máximo número de micronegocios\n",
    "ciudad_mas_micronegocios = ciudades_micro.idxmax()\n",
    "ciudad_mas_micro = ciudades_micro.max()\n",
    "\n",
    "print(f'La ciudad (AREA) con más micronegocios encabezados por hombres entre 20 y 30 años es: {ciudad_mas_micronegocios} con {ciudad_mas_micro:.1f} micronegocios')\n",
    "  \n",
    "\n",
    "    \n"
   ]
  },
  {
   "cell_type": "code",
   "execution_count": 11,
   "id": "f82019ab",
   "metadata": {},
   "outputs": [
    {
     "name": "stdout",
     "output_type": "stream",
     "text": [
      "Cantidad de micronegocios en Medellin encabezados por hombres entre 20 y 30 años: 75188.7\n"
     ]
    }
   ],
   "source": [
    "   \n",
    "\n",
    "CIUDAD = repaso_parcial_emicron_identificacion[\n",
    "    (repaso_parcial_emicron_identificacion['AREA'] == 5) & \n",
    "    (repaso_parcial_emicron_identificacion['P241'] >= 20) &\n",
    "    (repaso_parcial_emicron_identificacion['P241'] <= 30)\n",
    " ]['F_EXP'].sum()\n",
    "print(f'Cantidad de micronegocios en Medellin encabezados por hombres entre 20 y 30 años: { CIUDAD:.1f}')\n",
    "\n",
    "         "
   ]
  },
  {
   "cell_type": "code",
   "execution_count": 12,
   "id": "2ffb0b68",
   "metadata": {},
   "outputs": [
    {
     "name": "stdout",
     "output_type": "stream",
     "text": [
      "Cantidad de micronegocios en el Tolima encabezados por mujeres que no tienen una persona que les ayude: 28203.2\n"
     ]
    }
   ],
   "source": [
    "#3.EN EL DEPARTAMENTO DEL TOLIMA CUANTOS MICRONEGOCIOS EXISTEN ENCABEZADOS POR MUJERES QUE NO TIENEN UNA PERSONA QUE LES AYUDE EN SU MICRONEGOCIO\n",
    "\n",
    "QTOLIMA = repaso_parcial_emicron_identificacion[\n",
    "    (repaso_parcial_emicron_identificacion['COD_DEPTO'] == 73) & \n",
    "    (repaso_parcial_emicron_identificacion['P35'] == 2) &\n",
    "    (repaso_parcial_emicron_identificacion['P3031'] == 2)\n",
    " ]['F_EXP'].sum()\n",
    "print(f'Cantidad de micronegocios en el Tolima encabezados por mujeres que no tienen una persona que les ayude: { QTOLIMA:.1f}')\n",
    "\n"
   ]
  },
  {
   "cell_type": "code",
   "execution_count": 13,
   "id": "8b3e3a5e",
   "metadata": {},
   "outputs": [
    {
     "name": "stdout",
     "output_type": "stream",
     "text": [
      "Cantidad de micronegocios en Bogota encabezados por mujeres que estan en el sector de la industria manufacturera: 24563.0\n"
     ]
    }
   ],
   "source": [
    "#4.CUANTOS MICRONEGOCIOS HAY EN LA CIUDAD DE BOGOTA ENCABEZADOS POR MUJERES QUE ESTEN EN EL SECTOR DE LA INDUSTRIA MANUFACTURERA\n",
    "\n",
    "QBOGOTA = repaso_parcial_emicron_identificacion[\n",
    "    (repaso_parcial_emicron_identificacion['AREA'] == 11) & \n",
    "    (repaso_parcial_emicron_identificacion['P35'] == 2) &\n",
    "    (repaso_parcial_emicron_identificacion['GRUPOS12'] == 3)\n",
    " ]['F_EXP'].sum()\n",
    "print(f'Cantidad de micronegocios en Bogota encabezados por mujeres que estan en el sector de la industria manufacturera: { QBOGOTA:.1f}')  "
   ]
  },
  {
   "cell_type": "code",
   "execution_count": 14,
   "id": "0c3008dd",
   "metadata": {},
   "outputs": [
    {
     "name": "stdout",
     "output_type": "stream",
     "text": [
      "Cantidad de micronegocios iniciados solos y con prestamos bancarios: 340210.0\n"
     ]
    }
   ],
   "source": [
    "#5.CREAR UN CODIGO A GUSTO EN FORMA DE PREGUNTA CON DOS VARIABLES \n",
    "\n",
    "#¿Cuantas personas iniciaron un negocio solos y con prestamos bancarios?\n",
    "\n",
    "QPRESTAMO = repaso_parcial_emicron_emprendimiento[(repaso_parcial_emicron_emprendimiento['P3050'] == 1) & \n",
    "                                                  (repaso_parcial_emicron_emprendimiento['P3052'] == 3)]['F_EXP'].sum()\n",
    "print(f'Cantidad de micronegocios iniciados solos y con prestamos bancarios: { QPRESTAMO:.1f}')  "
   ]
  }
 ],
 "metadata": {
  "kernelspec": {
   "display_name": "Python 3",
   "language": "python",
   "name": "python3"
  },
  "language_info": {
   "codemirror_mode": {
    "name": "ipython",
    "version": 3
   },
   "file_extension": ".py",
   "mimetype": "text/x-python",
   "name": "python",
   "nbconvert_exporter": "python",
   "pygments_lexer": "ipython3",
   "version": "3.12.1"
  }
 },
 "nbformat": 4,
 "nbformat_minor": 5
}
